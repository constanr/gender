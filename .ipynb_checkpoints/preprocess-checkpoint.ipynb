{
 "cells": [
  {
   "cell_type": "code",
   "execution_count": null,
   "metadata": {
    "collapsed": true
   },
   "outputs": [],
   "source": []
  },
  {
   "cell_type": "code",
   "execution_count": 1,
   "metadata": {
    "collapsed": true
   },
   "outputs": [],
   "source": [
    "language = 'english'\n",
    "datapath = 'data/pan16-author-profiling-training-dataset-english-2016-02-19/'\n",
    "\n",
    "files_gender = {}\n",
    "files_age = {}\n",
    "with open(datapath+'truth.txt', 'rb') as truth:\n",
    "    lines = truth.readlines()\n",
    "    for line in lines:\n",
    "        files_gender[line.split(':::')[0]+'.xml'] = line.split(':::')[1]\n",
    "        files_age[line.split(':::')[0]+'.xml'] = line.split(':::')[2]"
   ]
  },
  {
   "cell_type": "code",
   "execution_count": null,
   "metadata": {
    "collapsed": false,
    "scrolled": false
   },
   "outputs": [],
   "source": [
    "import os, xml.etree.ElementTree as et, itertools\n",
    "from bs4 import BeautifulSoup\n",
    "\n",
    "files = os.listdir(datapath)\n",
    "tweets = []\n",
    "for f in files:\n",
    "    if f.endswith('.xml'):\n",
    "        posts = []\n",
    "        texts = ''\n",
    "        root = et.parse(datapath+f)\n",
    "        for d in root.find('documents').findall('document'):\n",
    "            if d.text!=None:\n",
    "                text = d.text\n",
    "                soup = BeautifulSoup(text, 'html.parser')\n",
    "                texts += text+'\\n'\n",
    "        post = {}\n",
    "        post['text'] = texts\n",
    "        post['gender'] = files_gender[f]\n",
    "        post['age'] = files_age[f]\n",
    "        posts.append(post)\n",
    "        tweets.append(posts)\n",
    "tweets = list(itertools.chain(*tweets))"
   ]
  },
  {
   "cell_type": "code",
   "execution_count": null,
   "metadata": {
    "collapsed": true
   },
   "outputs": [],
   "source": []
  },
  {
   "cell_type": "code",
   "execution_count": null,
   "metadata": {
    "collapsed": true
   },
   "outputs": [],
   "source": []
  }
 ],
 "metadata": {
  "kernelspec": {
   "display_name": "Python 2",
   "language": "python",
   "name": "python2"
  },
  "language_info": {
   "codemirror_mode": {
    "name": "ipython",
    "version": 2
   },
   "file_extension": ".py",
   "mimetype": "text/x-python",
   "name": "python",
   "nbconvert_exporter": "python",
   "pygments_lexer": "ipython2",
   "version": "2.7.6"
  }
 },
 "nbformat": 4,
 "nbformat_minor": 0
}
